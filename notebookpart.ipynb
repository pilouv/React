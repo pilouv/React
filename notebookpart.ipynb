{
 "cells": [
  {
   "cell_type": "code",
   "execution_count": 59,
   "metadata": {},
   "outputs": [],
   "source": [
    "import pandas as pd\n",
    "import requests\n",
    "import matplotlib.pyplot as plt\n",
    "from datetime import datetime, time"
   ]
  },
  {
   "cell_type": "markdown",
   "metadata": {},
   "source": [
    "# Affichage des stars par date de naissance"
   ]
  },
  {
   "cell_type": "code",
   "execution_count": 161,
   "metadata": {},
   "outputs": [
    {
     "data": {
      "text/html": [
       "<div>\n",
       "<style scoped>\n",
       "    .dataframe tbody tr th:only-of-type {\n",
       "        vertical-align: middle;\n",
       "    }\n",
       "\n",
       "    .dataframe tbody tr th {\n",
       "        vertical-align: top;\n",
       "    }\n",
       "\n",
       "    .dataframe thead th {\n",
       "        text-align: right;\n",
       "    }\n",
       "</style>\n",
       "<table border=\"1\" class=\"dataframe\">\n",
       "  <thead>\n",
       "    <tr style=\"text-align: right;\">\n",
       "      <th></th>\n",
       "      <th>birthdate</th>\n",
       "      <th>id</th>\n",
       "    </tr>\n",
       "    <tr>\n",
       "      <th>name</th>\n",
       "      <th></th>\n",
       "      <th></th>\n",
       "    </tr>\n",
       "  </thead>\n",
       "  <tbody>\n",
       "    <tr>\n",
       "      <th>Alexia Robinson</th>\n",
       "      <td>1960-01-01</td>\n",
       "      <td>732356</td>\n",
       "    </tr>\n",
       "    <tr>\n",
       "      <th>Annabella Sciorra</th>\n",
       "      <td>1960-01-01</td>\n",
       "      <td>1711</td>\n",
       "    </tr>\n",
       "    <tr>\n",
       "      <th>Antonio Banderas</th>\n",
       "      <td>1960-01-01</td>\n",
       "      <td>104</td>\n",
       "    </tr>\n",
       "    <tr>\n",
       "      <th>April Winchell</th>\n",
       "      <td>1960-01-01</td>\n",
       "      <td>934589</td>\n",
       "    </tr>\n",
       "    <tr>\n",
       "      <th>Artur Cybulski</th>\n",
       "      <td>1960-01-01</td>\n",
       "      <td>194187</td>\n",
       "    </tr>\n",
       "    <tr>\n",
       "      <th>...</th>\n",
       "      <td>...</td>\n",
       "      <td>...</td>\n",
       "    </tr>\n",
       "    <tr>\n",
       "      <th>Tony Lima</th>\n",
       "      <td>1960-01-01</td>\n",
       "      <td>510720</td>\n",
       "    </tr>\n",
       "    <tr>\n",
       "      <th>Troy Martin</th>\n",
       "      <td>1960-01-01</td>\n",
       "      <td>1750963</td>\n",
       "    </tr>\n",
       "    <tr>\n",
       "      <th>Victor Warren</th>\n",
       "      <td>1960-01-01</td>\n",
       "      <td>1197546</td>\n",
       "    </tr>\n",
       "    <tr>\n",
       "      <th>Wanda Cannon</th>\n",
       "      <td>1960-01-01</td>\n",
       "      <td>134281</td>\n",
       "    </tr>\n",
       "    <tr>\n",
       "      <th>Willie Aames</th>\n",
       "      <td>1960-01-01</td>\n",
       "      <td>714</td>\n",
       "    </tr>\n",
       "  </tbody>\n",
       "</table>\n",
       "<p>140 rows × 2 columns</p>\n",
       "</div>"
      ],
      "text/plain": [
       "                    birthdate       id\n",
       "name                                  \n",
       "Alexia Robinson    1960-01-01   732356\n",
       "Annabella Sciorra  1960-01-01     1711\n",
       "Antonio Banderas   1960-01-01      104\n",
       "April Winchell     1960-01-01   934589\n",
       "Artur Cybulski     1960-01-01   194187\n",
       "...                       ...      ...\n",
       "Tony Lima          1960-01-01   510720\n",
       "Troy Martin        1960-01-01  1750963\n",
       "Victor Warren      1960-01-01  1197546\n",
       "Wanda Cannon       1960-01-01   134281\n",
       "Willie Aames       1960-01-01      714\n",
       "\n",
       "[140 rows x 2 columns]"
      ]
     },
     "execution_count": 161,
     "metadata": {},
     "output_type": "execute_result"
    }
   ],
   "source": [
    "year = 1960\n",
    "dfStarsByBirthdate = pd.read_json(f'http://localhost:8000/stars/by_birthyear/{year}')\n",
    "dfStarsByBirthdate.set_index('name',inplace=True)\n",
    "dfStarsByBirthdate"
   ]
  },
  {
   "cell_type": "markdown",
   "metadata": {},
   "source": [
    "# Affichage des films par bout de titre"
   ]
  },
  {
   "cell_type": "code",
   "execution_count": 159,
   "metadata": {},
   "outputs": [
    {
     "data": {
      "text/html": [
       "<div>\n",
       "<style scoped>\n",
       "    .dataframe tbody tr th:only-of-type {\n",
       "        vertical-align: middle;\n",
       "    }\n",
       "\n",
       "    .dataframe tbody tr th {\n",
       "        vertical-align: top;\n",
       "    }\n",
       "\n",
       "    .dataframe thead th {\n",
       "        text-align: right;\n",
       "    }\n",
       "</style>\n",
       "<table border=\"1\" class=\"dataframe\">\n",
       "  <thead>\n",
       "    <tr style=\"text-align: right;\">\n",
       "      <th></th>\n",
       "      <th>year</th>\n",
       "      <th>duration</th>\n",
       "      <th>id</th>\n",
       "    </tr>\n",
       "    <tr>\n",
       "      <th>title</th>\n",
       "      <th></th>\n",
       "      <th></th>\n",
       "      <th></th>\n",
       "    </tr>\n",
       "  </thead>\n",
       "  <tbody>\n",
       "    <tr>\n",
       "      <th>The Man from Monterey</th>\n",
       "      <td>1933</td>\n",
       "      <td>57</td>\n",
       "      <td>24293</td>\n",
       "    </tr>\n",
       "    <tr>\n",
       "      <th>The Man from Utah</th>\n",
       "      <td>1934</td>\n",
       "      <td>55</td>\n",
       "      <td>25455</td>\n",
       "    </tr>\n",
       "    <tr>\n",
       "      <th>Lady from Louisiana</th>\n",
       "      <td>1941</td>\n",
       "      <td>82</td>\n",
       "      <td>33808</td>\n",
       "    </tr>\n",
       "    <tr>\n",
       "      <th>From Russia with Love</th>\n",
       "      <td>1963</td>\n",
       "      <td>115</td>\n",
       "      <td>57076</td>\n",
       "    </tr>\n",
       "    <tr>\n",
       "      <th>Force 10 from Navarone</th>\n",
       "      <td>1978</td>\n",
       "      <td>118</td>\n",
       "      <td>77572</td>\n",
       "    </tr>\n",
       "    <tr>\n",
       "      <th>Escape from Alcatraz</th>\n",
       "      <td>1979</td>\n",
       "      <td>112</td>\n",
       "      <td>79116</td>\n",
       "    </tr>\n",
       "    <tr>\n",
       "      <th>Rebel from China</th>\n",
       "      <td>1990</td>\n",
       "      <td>91</td>\n",
       "      <td>100992</td>\n",
       "    </tr>\n",
       "    <tr>\n",
       "      <th>From Dusk Till Dawn</th>\n",
       "      <td>1996</td>\n",
       "      <td>108</td>\n",
       "      <td>116367</td>\n",
       "    </tr>\n",
       "    <tr>\n",
       "      <th>From the Earth to the Moon</th>\n",
       "      <td>1998</td>\n",
       "      <td>60</td>\n",
       "      <td>120570</td>\n",
       "    </tr>\n",
       "    <tr>\n",
       "      <th>Letters from Iwo Jima</th>\n",
       "      <td>2006</td>\n",
       "      <td>141</td>\n",
       "      <td>498380</td>\n",
       "    </tr>\n",
       "  </tbody>\n",
       "</table>\n",
       "</div>"
      ],
      "text/plain": [
       "                            year  duration      id\n",
       "title                                             \n",
       "The Man from Monterey       1933        57   24293\n",
       "The Man from Utah           1934        55   25455\n",
       "Lady from Louisiana         1941        82   33808\n",
       "From Russia with Love       1963       115   57076\n",
       "Force 10 from Navarone      1978       118   77572\n",
       "Escape from Alcatraz        1979       112   79116\n",
       "Rebel from China            1990        91  100992\n",
       "From Dusk Till Dawn         1996       108  116367\n",
       "From the Earth to the Moon  1998        60  120570\n",
       "Letters from Iwo Jima       2006       141  498380"
      ]
     },
     "execution_count": 159,
     "metadata": {},
     "output_type": "execute_result"
    }
   ],
   "source": [
    "movie_titlepart = 'From'\n",
    "dfMovieByTitlepart = pd.read_json(f'http://localhost:8000/movies/by_titlepart/{movie_titlepart}')\n",
    "dfMovieByTitlepart.set_index('title',inplace=True)\n",
    "dfMovieByTitlepart"
   ]
  },
  {
   "cell_type": "markdown",
   "metadata": {},
   "source": [
    "# Statistiques par acteur"
   ]
  },
  {
   "cell_type": "code",
   "execution_count": 164,
   "metadata": {},
   "outputs": [
    {
     "data": {
      "text/html": [
       "<div>\n",
       "<style scoped>\n",
       "    .dataframe tbody tr th:only-of-type {\n",
       "        vertical-align: middle;\n",
       "    }\n",
       "\n",
       "    .dataframe tbody tr th {\n",
       "        vertical-align: top;\n",
       "    }\n",
       "\n",
       "    .dataframe thead th {\n",
       "        text-align: right;\n",
       "    }\n",
       "</style>\n",
       "<table border=\"1\" class=\"dataframe\">\n",
       "  <thead>\n",
       "    <tr style=\"text-align: right;\">\n",
       "      <th></th>\n",
       "      <th>actor</th>\n",
       "      <th>movie_count</th>\n",
       "      <th>year_first_movie</th>\n",
       "      <th>year_last_movie</th>\n",
       "    </tr>\n",
       "  </thead>\n",
       "  <tbody>\n",
       "    <tr>\n",
       "      <th>0</th>\n",
       "      <td>{'name': 'John Wayne', 'birthdate': '1907-05-2...</td>\n",
       "      <td>172</td>\n",
       "      <td>1926</td>\n",
       "      <td>1976</td>\n",
       "    </tr>\n",
       "    <tr>\n",
       "      <th>1</th>\n",
       "      <td>{'name': 'Harrison Ford', 'birthdate': '1884-0...</td>\n",
       "      <td>86</td>\n",
       "      <td>1915</td>\n",
       "      <td>2020</td>\n",
       "    </tr>\n",
       "    <tr>\n",
       "      <th>2</th>\n",
       "      <td>{'name': 'Sean Connery', 'birthdate': '1930-08...</td>\n",
       "      <td>73</td>\n",
       "      <td>1954</td>\n",
       "      <td>2012</td>\n",
       "    </tr>\n",
       "    <tr>\n",
       "      <th>3</th>\n",
       "      <td>{'name': 'Sylvester Stallone', 'birthdate': '1...</td>\n",
       "      <td>73</td>\n",
       "      <td>1969</td>\n",
       "      <td>2019</td>\n",
       "    </tr>\n",
       "    <tr>\n",
       "      <th>4</th>\n",
       "      <td>{'name': 'Tom Hanks', 'birthdate': '1956-07-09...</td>\n",
       "      <td>69</td>\n",
       "      <td>1980</td>\n",
       "      <td>2020</td>\n",
       "    </tr>\n",
       "    <tr>\n",
       "      <th>...</th>\n",
       "      <td>...</td>\n",
       "      <td>...</td>\n",
       "      <td>...</td>\n",
       "      <td>...</td>\n",
       "    </tr>\n",
       "    <tr>\n",
       "      <th>161</th>\n",
       "      <td>{'name': 'Patrick Wayne', 'birthdate': '1939-0...</td>\n",
       "      <td>10</td>\n",
       "      <td>1950</td>\n",
       "      <td>1971</td>\n",
       "    </tr>\n",
       "    <tr>\n",
       "      <th>162</th>\n",
       "      <td>{'name': 'Frank Welker', 'birthdate': '1946-01...</td>\n",
       "      <td>10</td>\n",
       "      <td>1981</td>\n",
       "      <td>2019</td>\n",
       "    </tr>\n",
       "    <tr>\n",
       "      <th>163</th>\n",
       "      <td>{'name': 'Grant Withers', 'birthdate': '1905-0...</td>\n",
       "      <td>10</td>\n",
       "      <td>1943</td>\n",
       "      <td>1955</td>\n",
       "    </tr>\n",
       "    <tr>\n",
       "      <th>164</th>\n",
       "      <td>{'name': 'Michael Fassbender', 'birthdate': '1...</td>\n",
       "      <td>10</td>\n",
       "      <td>2001</td>\n",
       "      <td>2017</td>\n",
       "    </tr>\n",
       "    <tr>\n",
       "      <th>165</th>\n",
       "      <td>{'name': 'Joseph Oliveira', 'birthdate': None,...</td>\n",
       "      <td>10</td>\n",
       "      <td>1975</td>\n",
       "      <td>2019</td>\n",
       "    </tr>\n",
       "  </tbody>\n",
       "</table>\n",
       "<p>166 rows × 4 columns</p>\n",
       "</div>"
      ],
      "text/plain": [
       "                                                 actor  movie_count  \\\n",
       "0    {'name': 'John Wayne', 'birthdate': '1907-05-2...          172   \n",
       "1    {'name': 'Harrison Ford', 'birthdate': '1884-0...           86   \n",
       "2    {'name': 'Sean Connery', 'birthdate': '1930-08...           73   \n",
       "3    {'name': 'Sylvester Stallone', 'birthdate': '1...           73   \n",
       "4    {'name': 'Tom Hanks', 'birthdate': '1956-07-09...           69   \n",
       "..                                                 ...          ...   \n",
       "161  {'name': 'Patrick Wayne', 'birthdate': '1939-0...           10   \n",
       "162  {'name': 'Frank Welker', 'birthdate': '1946-01...           10   \n",
       "163  {'name': 'Grant Withers', 'birthdate': '1905-0...           10   \n",
       "164  {'name': 'Michael Fassbender', 'birthdate': '1...           10   \n",
       "165  {'name': 'Joseph Oliveira', 'birthdate': None,...           10   \n",
       "\n",
       "     year_first_movie  year_last_movie  \n",
       "0                1926             1976  \n",
       "1                1915             2020  \n",
       "2                1954             2012  \n",
       "3                1969             2019  \n",
       "4                1980             2020  \n",
       "..                ...              ...  \n",
       "161              1950             1971  \n",
       "162              1981             2019  \n",
       "163              1943             1955  \n",
       "164              2001             2017  \n",
       "165              1975             2019  \n",
       "\n",
       "[166 rows x 4 columns]"
      ]
     },
     "execution_count": 164,
     "metadata": {},
     "output_type": "execute_result"
    }
   ],
   "source": [
    "dfStatsByActor =  pd.read_json(f'http://localhost:8000/stars/stats_movie_by_actor')\n",
    "dfStatsByActor"
   ]
  },
  {
   "cell_type": "markdown",
   "metadata": {},
   "source": [
    "### transformation des data json en colonne"
   ]
  },
  {
   "cell_type": "code",
   "execution_count": 163,
   "metadata": {
    "scrolled": true
   },
   "outputs": [
    {
     "name": "stdout",
     "output_type": "stream",
     "text": [
      "Response OK\n"
     ]
    },
    {
     "data": {
      "text/html": [
       "<div>\n",
       "<style scoped>\n",
       "    .dataframe tbody tr th:only-of-type {\n",
       "        vertical-align: middle;\n",
       "    }\n",
       "\n",
       "    .dataframe tbody tr th {\n",
       "        vertical-align: top;\n",
       "    }\n",
       "\n",
       "    .dataframe thead th {\n",
       "        text-align: right;\n",
       "    }\n",
       "</style>\n",
       "<table border=\"1\" class=\"dataframe\">\n",
       "  <thead>\n",
       "    <tr style=\"text-align: right;\">\n",
       "      <th></th>\n",
       "      <th>name</th>\n",
       "      <th>birthdate</th>\n",
       "      <th>id</th>\n",
       "      <th>movie_count</th>\n",
       "      <th>year_first_movie</th>\n",
       "      <th>year_last_movie</th>\n",
       "    </tr>\n",
       "  </thead>\n",
       "  <tbody>\n",
       "    <tr>\n",
       "      <th>0</th>\n",
       "      <td>John Wayne</td>\n",
       "      <td>26/05/1907</td>\n",
       "      <td>78</td>\n",
       "      <td>172</td>\n",
       "      <td>1926</td>\n",
       "      <td>1976</td>\n",
       "    </tr>\n",
       "    <tr>\n",
       "      <th>1</th>\n",
       "      <td>Harrison Ford</td>\n",
       "      <td>16/03/1884</td>\n",
       "      <td>1230</td>\n",
       "      <td>86</td>\n",
       "      <td>1915</td>\n",
       "      <td>2020</td>\n",
       "    </tr>\n",
       "    <tr>\n",
       "      <th>2</th>\n",
       "      <td>Sean Connery</td>\n",
       "      <td>25/08/1930</td>\n",
       "      <td>125</td>\n",
       "      <td>73</td>\n",
       "      <td>1954</td>\n",
       "      <td>2012</td>\n",
       "    </tr>\n",
       "    <tr>\n",
       "      <th>3</th>\n",
       "      <td>Sylvester Stallone</td>\n",
       "      <td>06/07/1946</td>\n",
       "      <td>230</td>\n",
       "      <td>73</td>\n",
       "      <td>1969</td>\n",
       "      <td>2019</td>\n",
       "    </tr>\n",
       "    <tr>\n",
       "      <th>4</th>\n",
       "      <td>Tom Hanks</td>\n",
       "      <td>09/07/1956</td>\n",
       "      <td>158</td>\n",
       "      <td>69</td>\n",
       "      <td>1980</td>\n",
       "      <td>2020</td>\n",
       "    </tr>\n",
       "    <tr>\n",
       "      <th>...</th>\n",
       "      <td>...</td>\n",
       "      <td>...</td>\n",
       "      <td>...</td>\n",
       "      <td>...</td>\n",
       "      <td>...</td>\n",
       "      <td>...</td>\n",
       "    </tr>\n",
       "    <tr>\n",
       "      <th>161</th>\n",
       "      <td>Patrick Wayne</td>\n",
       "      <td>01/01/1939</td>\n",
       "      <td>915618</td>\n",
       "      <td>10</td>\n",
       "      <td>1950</td>\n",
       "      <td>1971</td>\n",
       "    </tr>\n",
       "    <tr>\n",
       "      <th>162</th>\n",
       "      <td>Frank Welker</td>\n",
       "      <td>01/01/1946</td>\n",
       "      <td>919798</td>\n",
       "      <td>10</td>\n",
       "      <td>1981</td>\n",
       "      <td>2019</td>\n",
       "    </tr>\n",
       "    <tr>\n",
       "      <th>163</th>\n",
       "      <td>Grant Withers</td>\n",
       "      <td>01/01/1905</td>\n",
       "      <td>936728</td>\n",
       "      <td>10</td>\n",
       "      <td>1943</td>\n",
       "      <td>1955</td>\n",
       "    </tr>\n",
       "    <tr>\n",
       "      <th>164</th>\n",
       "      <td>Michael Fassbender</td>\n",
       "      <td>01/01/1977</td>\n",
       "      <td>1055413</td>\n",
       "      <td>10</td>\n",
       "      <td>2001</td>\n",
       "      <td>2017</td>\n",
       "    </tr>\n",
       "    <tr>\n",
       "      <th>165</th>\n",
       "      <td>Joseph Oliveira</td>\n",
       "      <td>NaN</td>\n",
       "      <td>5857646</td>\n",
       "      <td>10</td>\n",
       "      <td>1975</td>\n",
       "      <td>2019</td>\n",
       "    </tr>\n",
       "  </tbody>\n",
       "</table>\n",
       "<p>166 rows × 6 columns</p>\n",
       "</div>"
      ],
      "text/plain": [
       "                   name   birthdate       id  movie_count  year_first_movie  \\\n",
       "0            John Wayne  26/05/1907       78          172              1926   \n",
       "1         Harrison Ford  16/03/1884     1230           86              1915   \n",
       "2          Sean Connery  25/08/1930      125           73              1954   \n",
       "3    Sylvester Stallone  06/07/1946      230           73              1969   \n",
       "4             Tom Hanks  09/07/1956      158           69              1980   \n",
       "..                  ...         ...      ...          ...               ...   \n",
       "161       Patrick Wayne  01/01/1939   915618           10              1950   \n",
       "162        Frank Welker  01/01/1946   919798           10              1981   \n",
       "163       Grant Withers  01/01/1905   936728           10              1943   \n",
       "164  Michael Fassbender  01/01/1977  1055413           10              2001   \n",
       "165     Joseph Oliveira         NaN  5857646           10              1975   \n",
       "\n",
       "     year_last_movie  \n",
       "0               1976  \n",
       "1               2020  \n",
       "2               2012  \n",
       "3               2019  \n",
       "4               2020  \n",
       "..               ...  \n",
       "161             1971  \n",
       "162             2019  \n",
       "163             1955  \n",
       "164             2017  \n",
       "165             2019  \n",
       "\n",
       "[166 rows x 6 columns]"
      ]
     },
     "execution_count": 163,
     "metadata": {},
     "output_type": "execute_result"
    }
   ],
   "source": [
    "response = requests.get(f'http://localhost:8000/stars/stats_movie_by_actor')\n",
    "if response.status_code == 200:\n",
    "    print('Response OK')\n",
    "    data_json = response.json()\n",
    "else:\n",
    "    print('Error', response.status_code, response.json(), sep=',')\n",
    "response_flatten = [ { **data['actor'], \"movie_count\": data['movie_count'], \"year_first_movie\": data['year_first_movie'], \"year_last_movie\": data['year_last_movie']} for data in data_json]\n",
    "dfStats = pd.DataFrame(response_flatten)\n",
    "dfStats['birthdate'] = pd.to_datetime(dfStats['birthdate']).dt.strftime(\"%d/%m/%Y\")\n",
    "dfStats"
   ]
  },
  {
   "cell_type": "markdown",
   "metadata": {},
   "source": [
    "## Graphe : nombre de films par année ( >20)"
   ]
  },
  {
   "cell_type": "code",
   "execution_count": 203,
   "metadata": {},
   "outputs": [
    {
     "name": "stdout",
     "output_type": "stream",
     "text": [
      "Response OK\n"
     ]
    },
    {
     "data": {
      "text/plain": [
       "<AxesSubplot:xlabel='year'>"
      ]
     },
     "execution_count": 203,
     "metadata": {},
     "output_type": "execute_result"
    },
    {
     "data": {
      "image/png": "[encoded data removed]",
      "text/plain": [
       "<Figure size 432x288 with 1 Axes>"
      ]
     },
     "metadata": {
      "needs_background": "light"
     },
     "output_type": "display_data"
    }
   ],
   "source": [
    "# nb de films par années \n",
    "response = requests.get('http://localhost:8000/movies/count_by_year_dic')\n",
    "if response.status_code == 200:\n",
    "    print('Response OK')\n",
    "    data_json = response.json()\n",
    "else:\n",
    "    print('Error', response.status_code, response.json(), sep=',')\n",
    "dfStatsMovie = pd.DataFrame(data_json)\n",
    "dfStatsMovie[dfStatsMovie.movie_count > 20][['year','movie_count']] \\\n",
    "    .set_index('year') \\\n",
    "    .plot(kind='bar')"
   ]
  },
  {
   "cell_type": "markdown",
   "metadata": {},
   "source": [
    "## Graphe : nombre de naissance d'acteur par années "
   ]
  },
  {
   "cell_type": "code",
   "execution_count": 170,
   "metadata": {},
   "outputs": [
    {
     "name": "stdout",
     "output_type": "stream",
     "text": [
      "Response OK\n"
     ]
    },
    {
     "data": {
      "text/plain": [
       "[<matplotlib.lines.Line2D at 0x7fe31dc86400>]"
      ]
     },
     "execution_count": 170,
     "metadata": {},
     "output_type": "execute_result"
    },
    {
     "data": {
      "image/png": "[encoded data removed]",
      "text/plain": [
       "<Figure size 432x288 with 1 Axes>"
      ]
     },
     "metadata": {
      "needs_background": "light"
     },
     "output_type": "display_data"
    }
   ],
   "source": [
    "limit= 50000\n",
    "response1 = requests.get(f'http://localhost:8000/stars?limit={limit}')\n",
    "if response1.status_code == 200:\n",
    "    print('Response OK')\n",
    "    data_json = response1.json()\n",
    "else:\n",
    "    print('Error', response1.status_code, response1.json(), sep=',')\n",
    "dfStatsStars = pd.DataFrame(data_json)\n",
    "dfStatsStarsByBirthdate = dfStatsStars.dropna().groupby('birthdate').count()\n",
    "plt.plot(dfStatsStarsByBirthdate.name)"
   ]
  },
  {
   "cell_type": "markdown",
   "metadata": {},
   "source": [
    "## Diagrammes barres top 10 acteurs"
   ]
  },
  {
   "cell_type": "code",
   "execution_count": 175,
   "metadata": {},
   "outputs": [
    {
     "name": "stdout",
     "output_type": "stream",
     "text": [
      "Response OK\n"
     ]
    },
    {
     "data": {
      "text/html": [
       "<div>\n",
       "<style scoped>\n",
       "    .dataframe tbody tr th:only-of-type {\n",
       "        vertical-align: middle;\n",
       "    }\n",
       "\n",
       "    .dataframe tbody tr th {\n",
       "        vertical-align: top;\n",
       "    }\n",
       "\n",
       "    .dataframe thead th {\n",
       "        text-align: right;\n",
       "    }\n",
       "</style>\n",
       "<table border=\"1\" class=\"dataframe\">\n",
       "  <thead>\n",
       "    <tr style=\"text-align: right;\">\n",
       "      <th></th>\n",
       "      <th>name</th>\n",
       "      <th>birthdate</th>\n",
       "      <th>id</th>\n",
       "      <th>movie_count</th>\n",
       "      <th>year_first_movie</th>\n",
       "      <th>year_last_movie</th>\n",
       "    </tr>\n",
       "  </thead>\n",
       "  <tbody>\n",
       "    <tr>\n",
       "      <th>0</th>\n",
       "      <td>John Wayne</td>\n",
       "      <td>26/05/1907</td>\n",
       "      <td>78</td>\n",
       "      <td>172</td>\n",
       "      <td>1926</td>\n",
       "      <td>1976</td>\n",
       "    </tr>\n",
       "    <tr>\n",
       "      <th>1</th>\n",
       "      <td>Harrison Ford</td>\n",
       "      <td>16/03/1884</td>\n",
       "      <td>1230</td>\n",
       "      <td>86</td>\n",
       "      <td>1915</td>\n",
       "      <td>2020</td>\n",
       "    </tr>\n",
       "    <tr>\n",
       "      <th>2</th>\n",
       "      <td>Sean Connery</td>\n",
       "      <td>25/08/1930</td>\n",
       "      <td>125</td>\n",
       "      <td>73</td>\n",
       "      <td>1954</td>\n",
       "      <td>2012</td>\n",
       "    </tr>\n",
       "    <tr>\n",
       "      <th>3</th>\n",
       "      <td>Sylvester Stallone</td>\n",
       "      <td>06/07/1946</td>\n",
       "      <td>230</td>\n",
       "      <td>73</td>\n",
       "      <td>1969</td>\n",
       "      <td>2019</td>\n",
       "    </tr>\n",
       "    <tr>\n",
       "      <th>4</th>\n",
       "      <td>Tom Hanks</td>\n",
       "      <td>09/07/1956</td>\n",
       "      <td>158</td>\n",
       "      <td>69</td>\n",
       "      <td>1980</td>\n",
       "      <td>2020</td>\n",
       "    </tr>\n",
       "    <tr>\n",
       "      <th>5</th>\n",
       "      <td>Jean-Claude Van Damme</td>\n",
       "      <td>18/10/1960</td>\n",
       "      <td>241</td>\n",
       "      <td>66</td>\n",
       "      <td>1979</td>\n",
       "      <td>2019</td>\n",
       "    </tr>\n",
       "    <tr>\n",
       "      <th>6</th>\n",
       "      <td>Clint Eastwood</td>\n",
       "      <td>31/05/1930</td>\n",
       "      <td>142</td>\n",
       "      <td>63</td>\n",
       "      <td>1955</td>\n",
       "      <td>2018</td>\n",
       "    </tr>\n",
       "    <tr>\n",
       "      <th>7</th>\n",
       "      <td>Harrison Ford</td>\n",
       "      <td>13/07/1942</td>\n",
       "      <td>148</td>\n",
       "      <td>63</td>\n",
       "      <td>1966</td>\n",
       "      <td>2020</td>\n",
       "    </tr>\n",
       "    <tr>\n",
       "      <th>8</th>\n",
       "      <td>Arnold Schwarzenegger</td>\n",
       "      <td>30/07/1947</td>\n",
       "      <td>216</td>\n",
       "      <td>56</td>\n",
       "      <td>1970</td>\n",
       "      <td>2019</td>\n",
       "    </tr>\n",
       "    <tr>\n",
       "      <th>9</th>\n",
       "      <td>Will Smith</td>\n",
       "      <td>25/09/1968</td>\n",
       "      <td>226</td>\n",
       "      <td>50</td>\n",
       "      <td>1988</td>\n",
       "      <td>2020</td>\n",
       "    </tr>\n",
       "  </tbody>\n",
       "</table>\n",
       "</div>"
      ],
      "text/plain": [
       "                    name   birthdate    id  movie_count  year_first_movie  \\\n",
       "0             John Wayne  26/05/1907    78          172              1926   \n",
       "1          Harrison Ford  16/03/1884  1230           86              1915   \n",
       "2           Sean Connery  25/08/1930   125           73              1954   \n",
       "3     Sylvester Stallone  06/07/1946   230           73              1969   \n",
       "4              Tom Hanks  09/07/1956   158           69              1980   \n",
       "5  Jean-Claude Van Damme  18/10/1960   241           66              1979   \n",
       "6         Clint Eastwood  31/05/1930   142           63              1955   \n",
       "7          Harrison Ford  13/07/1942   148           63              1966   \n",
       "8  Arnold Schwarzenegger  30/07/1947   216           56              1970   \n",
       "9             Will Smith  25/09/1968   226           50              1988   \n",
       "\n",
       "   year_last_movie  \n",
       "0             1976  \n",
       "1             2020  \n",
       "2             2012  \n",
       "3             2019  \n",
       "4             2020  \n",
       "5             2019  \n",
       "6             2018  \n",
       "7             2020  \n",
       "8             2019  \n",
       "9             2020  "
      ]
     },
     "execution_count": 175,
     "metadata": {},
     "output_type": "execute_result"
    }
   ],
   "source": [
    "response =  requests.get(f'http://localhost:8000/stars/stats_movie_by_actor')\n",
    "response = requests.get(f'http://localhost:8000/stars/stats_movie_by_actor')\n",
    "if response.status_code == 200:\n",
    "    print('Response OK')\n",
    "    data_json = response.json()\n",
    "else:\n",
    "    print('Error', response.status_code, response.json(), sep=',')\n",
    "response_flatten = [ { **data['actor'], \"movie_count\": data['movie_count'], \"year_first_movie\": data['year_first_movie'], \"year_last_movie\": data['year_last_movie']} for data in data_json]\n",
    "dfStatsActors = pd.DataFrame(response_flatten)\n",
    "dfStatsActors['birthdate'] = pd.to_datetime(dfStatsActors['birthdate']).dt.strftime(\"%d/%m/%Y\")\n",
    "dfStatsActorsTop10 = dfStatsActors[:10] if dfStatsActors.size >= 10 else dfStatsActors\n",
    "dfStatsActorsTop10"
   ]
  },
  {
   "cell_type": "markdown",
   "metadata": {},
   "source": [
    "### Nombre de films par acteurs"
   ]
  },
  {
   "cell_type": "code",
   "execution_count": 200,
   "metadata": {},
   "outputs": [
    {
     "data": {
      "image/png": "[encoded data removed]",
      "text/plain": [
       "<Figure size 432x288 with 1 Axes>"
      ]
     },
     "metadata": {
      "needs_background": "light"
     },
     "output_type": "display_data"
    }
   ],
   "source": [
    "dfStatsActorsTop10MovieCount = dfStatsActorsTop10[['name', 'movie_count']].set_index('name').plot(kind='bar')"
   ]
  },
  {
   "cell_type": "markdown",
   "metadata": {},
   "source": [
    "### Années premier et dernier film par acteur"
   ]
  },
  {
   "cell_type": "code",
   "execution_count": 201,
   "metadata": {},
   "outputs": [
    {
     "data": {
      "text/plain": [
       "(1900.0, 2030.0)"
      ]
     },
     "execution_count": 201,
     "metadata": {},
     "output_type": "execute_result"
    },
    {
     "data": {
      "image/png": "[encoded data removed]",
      "text/plain": [
       "<Figure size 576x288 with 1 Axes>"
      ]
     },
     "metadata": {
      "needs_background": "light"
     },
     "output_type": "display_data"
    }
   ],
   "source": [
    "fig, ax1 = plt.subplots(1, figsize=(8,4))\n",
    "dfStatsActorsTop10Years = dfStatsActorsTop10[['name', 'year_first_movie', 'year_last_movie']].set_index('name').plot(kind='bar', ax=ax1)\n",
    "ax1.set_ylim(1900,2030)"
   ]
  }
 ],
 "metadata": {
  "kernelspec": {
   "display_name": "Python 3",
   "language": "python",
   "name": "python3"
  },
  "language_info": {
   "codemirror_mode": {
    "name": "ipython",
    "version": 3
   },
   "file_extension": ".py",
   "mimetype": "text/x-python",
   "name": "python",
   "nbconvert_exporter": "python",
   "pygments_lexer": "ipython3",
   "version": "3.6.9"
  }
 },
 "nbformat": 4,
 "nbformat_minor": 4
}
